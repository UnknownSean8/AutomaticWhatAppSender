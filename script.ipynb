{
 "cells": [
  {
   "cell_type": "code",
   "execution_count": 1,
   "source": [
    "import pywhatkit as pwt\r\n",
    "import xlwings as xw"
   ],
   "outputs": [],
   "metadata": {}
  },
  {
   "cell_type": "code",
   "execution_count": 8,
   "source": [
    "wb = xw.Book('Concert Player List (by Song).xlsx')\r\n",
    "ws1 = wb.sheets[0]"
   ],
   "outputs": [],
   "metadata": {}
  },
  {
   "cell_type": "code",
   "execution_count": 9,
   "source": [
    "players = ws1.range(\"A1\").expand().value\r\n",
    "print(players)"
   ],
   "outputs": [
    {
     "output_type": "stream",
     "name": "stdout",
     "text": [
      "[['Section', 'Instrument', 'Name', 'Contact', 'Secret Garden', 'Danube (Intro-3)', 'Zanarkand', 'Sound of Ocean', 'Liz & Blue Bird', 'Chopin Nocturne'], ['Brass', 'Horn', 'Alvin_1', '+60 10-255 8717', 'Horn 1', 'Horn 1', 'Horn 1', 'Horn 1', 'Horn 1', None], ['Brass', 'Horn', 'Alvin_2', '+60 10-255 8717', None, 'Horn 2', 'Horn 3', 'Horn 2', 'Horn 2', None], ['Brass', 'Trombone', 'Alvin_3', '+60 10-255 8717', None, 'Tbe 1', 'Tbe 1', None, 'Tbe 1', 'Vln 1'], ['Brass', 'Horn', 'Alvin_1', '+60 10-255 8717', 'Horn 1', 'Horn 1', 'Horn 1', 'Horn 1', 'Horn 1', None]]\n"
     ]
    }
   ],
   "metadata": {}
  },
  {
   "cell_type": "code",
   "execution_count": 11,
   "source": [
    "numberOfSongs = 6\r\n",
    "\r\n",
    "for i in range(1, len(players)):\r\n",
    "    string = \"\"\r\n",
    "    string += \"Hi {}, your list of songs:\\n\".format(players[i][2])\r\n",
    "    for j in range(numberOfSongs):\r\n",
    "        string += \"{}. {}: {}\\n\".format(j+1, players[0][j+4], players[i][j+4])\r\n",
    "\r\n",
    "    string += \"Thank you.\\n\"\r\n",
    "\r\n",
    "    print(string)\r\n",
    "    # pwt.sendwhatmsg_instantly(players[i][3], string, 10)"
   ],
   "outputs": [
    {
     "output_type": "stream",
     "name": "stdout",
     "text": [
      "Hi Alvin_1, your list of songs:\n",
      "1. Secret Garden: Horn 1\n",
      "2. Danube (Intro-3): Horn 1\n",
      "3. Zanarkand: Horn 1\n",
      "4. Sound of Ocean: Horn 1\n",
      "5. Liz & Blue Bird: Horn 1\n",
      "6. Chopin Nocturne: None\n",
      "Thank you.\n",
      "Hi Alvin_2, your list of songs:\n",
      "1. Secret Garden: None\n",
      "2. Danube (Intro-3): Horn 2\n",
      "3. Zanarkand: Horn 3\n",
      "4. Sound of Ocean: Horn 2\n",
      "5. Liz & Blue Bird: Horn 2\n",
      "6. Chopin Nocturne: None\n",
      "Thank you.\n",
      "Hi Alvin_3, your list of songs:\n",
      "1. Secret Garden: None\n",
      "2. Danube (Intro-3): Tbe 1\n",
      "3. Zanarkand: Tbe 1\n",
      "4. Sound of Ocean: None\n",
      "5. Liz & Blue Bird: Tbe 1\n",
      "6. Chopin Nocturne: Vln 1\n",
      "Thank you.\n",
      "Hi Alvin_1, your list of songs:\n",
      "1. Secret Garden: Horn 1\n",
      "2. Danube (Intro-3): Horn 1\n",
      "3. Zanarkand: Horn 1\n",
      "4. Sound of Ocean: Horn 1\n",
      "5. Liz & Blue Bird: Horn 1\n",
      "6. Chopin Nocturne: None\n",
      "Thank you.\n"
     ]
    }
   ],
   "metadata": {}
  }
 ],
 "metadata": {
  "orig_nbformat": 4,
  "language_info": {
   "name": "python",
   "version": "3.8.3",
   "mimetype": "text/x-python",
   "codemirror_mode": {
    "name": "ipython",
    "version": 3
   },
   "pygments_lexer": "ipython3",
   "nbconvert_exporter": "python",
   "file_extension": ".py"
  },
  "kernelspec": {
   "name": "python3",
   "display_name": "Python 3.8.3 64-bit"
  },
  "interpreter": {
   "hash": "5c0372ed38b372118c24adb00d45654d76c8d10261533c5724e3f5fc1d75489a"
  }
 },
 "nbformat": 4,
 "nbformat_minor": 2
}